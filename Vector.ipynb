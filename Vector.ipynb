{
 "cells": [
  {
   "cell_type": "code",
   "execution_count": 27,
   "metadata": {},
   "outputs": [],
   "source": [
    "class Vector(object):\n",
    "    def __init__(self, *args):\n",
    "        try:\n",
    "            if len(args) == 0:\n",
    "                raise ValueError\n",
    "            if hasattr(args[0], \"__iter__\"):\n",
    "                # If first arg is a sequence, use that\n",
    "                # as the coordinates and ignore the other args\n",
    "                coordinates = args[0]\n",
    "            else:\n",
    "                # Otherwise, splat the args\n",
    "                coordinates = args\n",
    "            if not coordinates:\n",
    "                raise ValueError\n",
    "            self.coordinates = tuple(coordinates)\n",
    "            self.dimension = len(coordinates)\n",
    "\n",
    "        except ValueError:\n",
    "            raise ValueError('The coordinates must be nonempty')\n",
    "\n",
    "        except TypeError:\n",
    "            raise TypeError('The coordinates must be an iterable')\n",
    "\n",
    "    def __str__(self):\n",
    "        return 'Vector: {}'.format(self.coordinates)\n",
    "    \n",
    "    def __repr__(self):\n",
    "        return str(self)\n",
    "\n",
    "    def __eq__(self, v):\n",
    "        return self.coordinates == v.coordinates\n",
    "    \n",
    "    def __len__(self):\n",
    "        return self.dimension\n",
    "    \n",
    "    def __iter__(self):\n",
    "        return iter(self.coordinates)\n",
    "        \n",
    "    def __add__(self, other):\n",
    "        if len(other) != self.dimension:\n",
    "            raise ValueError('The vectors must have equal dimension')\n",
    "        return Vector(tuple(\n",
    "            a + b for a, b in zip(self, other)\n",
    "        ))\n",
    "    \n",
    "    def __sub__(self, other):\n",
    "        if len(other) != self.dimension:\n",
    "            raise ValueError('The vectors must have equal dimension')\n",
    "        return Vector(tuple(\n",
    "            a - b for a, b in zip(self, other)\n",
    "        ))\n",
    "    \n",
    "    def __mul__(self, other):\n",
    "        if isinstance(other, (float, int)) or len(other) == 1:\n",
    "            return self._scalar_multiply(other)\n",
    "        raise NotImplementedError()\n",
    "        \n",
    "    def __rmul__(self, other):\n",
    "        if isinstance(other, (float, int)) or len(other) == 1:\n",
    "            return self._scalar_multiply(other)\n",
    "        raise NotImplementedError()\n",
    "            \n",
    "    def _scalar_multiply(self, scalar):\n",
    "        return Vector(tuple(\n",
    "            scalar * a for a in self\n",
    "        ))"
   ]
  },
  {
   "cell_type": "markdown",
   "metadata": {},
   "source": [
    "Quiz 2.1.4: Plus, Minus, Scalar Multiply"
   ]
  },
  {
   "cell_type": "code",
   "execution_count": 30,
   "metadata": {},
   "outputs": [
    {
     "data": {
      "text/plain": [
       "Vector: (7.089, -7.229999999999999)"
      ]
     },
     "execution_count": 30,
     "metadata": {},
     "output_type": "execute_result"
    }
   ],
   "source": [
    "Vector(8.218, -9.341) + Vector(-1.129, 2.111)"
   ]
  },
  {
   "cell_type": "code",
   "execution_count": 31,
   "metadata": {},
   "outputs": [
    {
     "data": {
      "text/plain": [
       "Vector: (15.342, 7.337)"
      ]
     },
     "execution_count": 31,
     "metadata": {},
     "output_type": "execute_result"
    }
   ],
   "source": [
    "Vector(7.119, 8.215) - Vector(-8.223, 0.878)"
   ]
  },
  {
   "cell_type": "code",
   "execution_count": 34,
   "metadata": {},
   "outputs": [
    {
     "data": {
      "text/plain": [
       "Vector: (12.38211, -7.49892, -2.35638)"
      ]
     },
     "execution_count": 34,
     "metadata": {},
     "output_type": "execute_result"
    }
   ],
   "source": [
    "7.41 * Vector(1.671, -1.012, -0.318)"
   ]
  },
  {
   "cell_type": "code",
   "execution_count": null,
   "metadata": {},
   "outputs": [],
   "source": []
  }
 ],
 "metadata": {
  "kernelspec": {
   "display_name": "Python 3",
   "language": "python",
   "name": "python3"
  },
  "language_info": {
   "codemirror_mode": {
    "name": "ipython",
    "version": 3
   },
   "file_extension": ".py",
   "mimetype": "text/x-python",
   "name": "python",
   "nbconvert_exporter": "python",
   "pygments_lexer": "ipython3",
   "version": "3.6.1"
  }
 },
 "nbformat": 4,
 "nbformat_minor": 2
}
